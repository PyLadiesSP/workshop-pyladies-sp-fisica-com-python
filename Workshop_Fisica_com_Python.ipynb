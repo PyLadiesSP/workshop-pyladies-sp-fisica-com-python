{
  "nbformat": 4,
  "nbformat_minor": 0,
  "metadata": {
    "colab": {
      "name": "Workshop_Fisica_com_Python.ipynb",
      "provenance": [],
      "collapsed_sections": [],
      "authorship_tag": "ABX9TyNRzQF9cTYWIHRV/cNMMqDy",
      "include_colab_link": true
    },
    "kernelspec": {
      "name": "python3",
      "display_name": "Python 3"
    }
  },
  "cells": [
    {
      "cell_type": "markdown",
      "metadata": {
        "id": "view-in-github",
        "colab_type": "text"
      },
      "source": [
        "<a href=\"https://colab.research.google.com/github/lis-r-barreto/workshop-pyladies-sp-fisica-com-python/blob/main/Workshop_Fisica_com_Python.ipynb\" target=\"_parent\"><img src=\"https://colab.research.google.com/assets/colab-badge.svg\" alt=\"Open In Colab\"/></a>"
      ]
    },
    {
      "cell_type": "markdown",
      "metadata": {
        "id": "B7OAoNil_D_r"
      },
      "source": [
        "# **A Mecânica em uma Casca de Noz 🌰**\n",
        "\n",
        "A **Mecânica** é uma grande área da física que se concentra no estudo do movimento e repouso dos corpos, estejam estes ou não sob a ação de forças. A mecânica divide-se nas áreas de **Cinemática**, **Dinâmica** e **Estática**. Praticamente todos os movimentos que acontecem em nosso cotidiano podem ser descritos pelas equações dessa área. \n"
      ]
    },
    {
      "cell_type": "markdown",
      "metadata": {
        "id": "WIaSGiQWx4cM"
      },
      "source": [
        "# **Cinemática**\n",
        "\n",
        "Dentro da **Mecânica**, existe o estudo matemático dos movimentos, que é chamado de **Cinemática**, na qual o movimento em si é o objeto de estudo, e não as suas causas. As causas do movimento são estudadas pela **Dinâmica**."
      ]
    },
    {
      "cell_type": "markdown",
      "metadata": {
        "id": "oyWD6vxeBLK4"
      },
      "source": [
        "<p align=\"center\">\n",
        " <img width=\"490\" height=\"199\" src=\"https://assets.sbnation.com/assets/1278097/boltruns.gif\">\n",
        "</p>"
      ]
    },
    {
      "cell_type": "markdown",
      "metadata": {
        "id": "EtV9aVmI7I6h"
      },
      "source": [
        "# **Movimento Uniforme**\n",
        "\n",
        "**Movimento uniforme (MU)** é aquele que possui velocidade escalar instantânea constante e diferente de zero.\n",
        "\n",
        "Decorre imediatamente da definição que a velocidade escalar média é também constante, para qualquer intervalo de tempo, e seu valor coincide com o da veloci­dade escalar instantânea.\n",
        "\n",
        "Assim, podemos escrever:\n",
        "\n",
        "\\begin{equation}\n",
        "v_m = v \\Rightarrow v = \\frac {\\Delta s}{\\Delta t}\n",
        "\\end{equation}\n",
        "\n",
        "Então: \n",
        "\\begin{equation}\n",
        "\\Delta s = v \\Delta t\n",
        "\\end{equation}\n",
        "\n",
        "Essa última igualdade nos mostra que, no movimento uniforme, a variação de posição ($\\Delta s$) é diretamente proporcional ao intervalo de tempo correspondente ($\\Delta t$).\n",
        "\n",
        "Assim, para iguais intervalos de tempo, teremos iguais variações de posição."
      ]
    },
    {
      "cell_type": "markdown",
      "metadata": {
        "id": "cSG5sTk3V1mT"
      },
      "source": [
        "<p align=\"center\">\n",
        " <img width=\"490\" height=\"199\" src=\"https://2.bp.blogspot.com/-jOWK2tluO1s/Uzmqlj0jKsI/AAAAAAAACZ8/bDi3Pfyhyxs/s1600/kar.png\">\n",
        "</p>"
      ]
    },
    {
      "cell_type": "markdown",
      "metadata": {
        "id": "BWlAMO2t97_P"
      },
      "source": [
        "## **Momento Pythônico: Entrada e Saída de Dados 🐍**"
      ]
    },
    {
      "cell_type": "markdown",
      "metadata": {
        "id": "bi-iuHE8xe0f"
      },
      "source": [
        "###**Exemplo 1**\n",
        "\n",
        "Um carro percorre os trechos AB, BC e CD de uma\n",
        "rodovia com velocidade escalar constante em\n",
        "cada uma delas: \n",
        "\n",
        "v1 = 80 km/h;\n",
        "\n",
        "v2 = 100 km/h;\n",
        "\n",
        "v3 = 90 km/h.\n"
      ]
    },
    {
      "cell_type": "markdown",
      "metadata": {
        "id": "JcW9UArd2Kve"
      },
      "source": [
        "\n",
        "![exemplo1.png](data:image/png;base64,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)"
      ]
    },
    {
      "cell_type": "markdown",
      "metadata": {
        "id": "LU6RmITM47Ih"
      },
      "source": [
        "\n",
        "Determine:\n",
        "\n",
        "a) o tempo de percurso total, de A a D\n",
        "\n",
        "b) a velocidade escalar média no percurso total."
      ]
    },
    {
      "cell_type": "markdown",
      "metadata": {
        "id": "REla4taM9yN0"
      },
      "source": [
        "### **Solução**"
      ]
    },
    {
      "cell_type": "markdown",
      "metadata": {
        "id": "Cq2sK6HU--vr"
      },
      "source": [
        "Seja a velocidade escalar:\n",
        "\n",
        "\\begin{equation}\n",
        "v = \\frac {\\Delta s} {\\Delta t}\n",
        "\\end{equation}\n",
        "\n",
        "Queremos o tempo do percurso total, então:\n",
        "\n",
        "\\begin{equation}\n",
        "\\Delta t = \\frac {\\Delta s} {v} \\Rightarrow \\Delta t = \\frac {d} {v}\n",
        "\\end{equation}"
      ]
    },
    {
      "cell_type": "code",
      "metadata": {
        "id": "D9HUc7xiscjc"
      },
      "source": [
        "d1 = 144.0\n",
        "#d1 = float(input(\"Digite o valor correspondente à distância do trecho AB: \"))\n",
        "v1 = 80.0\n",
        "#v1 = float(input(\"Digite o valor correspondente à velocidade do trecho AB: \"))\n",
        "delta_t1 = d1 / v1\n",
        "#delta_t1\n",
        "print(\"Duração do trecho AB: {} h\".format(delta_t1))"
      ],
      "execution_count": null,
      "outputs": []
    },
    {
      "cell_type": "code",
      "metadata": {
        "id": "CMjRCKsn11FB"
      },
      "source": [
        "d2 = 230\n",
        "#d2 = int(input(\"Digite o valor correspondente à distância do trecho BC: \"))\n",
        "v2 = 100\n",
        "#v2 = int(input(\"Digite o valor correspondente à velocidade do trecho BC: \"))\n",
        "delta_t2 = d2 / v2\n",
        "#delta_t2\n",
        "print(\"Duração do trecho BC {} h\".format(delta_t2))\n"
      ],
      "execution_count": null,
      "outputs": []
    },
    {
      "cell_type": "code",
      "metadata": {
        "id": "__T1Q6_y16lG"
      },
      "source": [
        "d3 = 270\n",
        "#d3 = int(input(\"Digite o valor correspondente à distância do trecho CD: \"))\n",
        "v3 = 90\n",
        "#v3 = int(input(\"Digite o valor correspondente à velocidade do trecho CD: \"))\n",
        "delta_t3 = d3 / v3\n",
        "#delta_t3\n",
        "print(\"Duração do trecho CD {} h\".format(delta_t3))"
      ],
      "execution_count": null,
      "outputs": []
    },
    {
      "cell_type": "code",
      "metadata": {
        "id": "5C8-G_091_ZF"
      },
      "source": [
        "delta_t = delta_t1 + delta_t2 + delta_t3\n",
        "#delta_t\n",
        "print(\"Duração total: {} h\".format(delta_t))"
      ],
      "execution_count": null,
      "outputs": []
    },
    {
      "cell_type": "code",
      "metadata": {
        "id": "QS8dK7u62Xuv"
      },
      "source": [
        "d = d1 + d2 + d3\n",
        "v_m = d / delta_t\n",
        "#v_m\n",
        "print(\"A velocidade escalar média no percurso total é {:1.2f} km/h\".format(v_m))"
      ],
      "execution_count": null,
      "outputs": []
    },
    {
      "cell_type": "markdown",
      "metadata": {
        "id": "AzVS3Uxf8WIf"
      },
      "source": [
        "#**Muito Além da Fórmula do Sorvete 🍨**"
      ]
    },
    {
      "cell_type": "markdown",
      "metadata": {
        "id": "shUYZgFdvI_B"
      },
      "source": [
        "\n",
        "<p align=\"center\">\n",
        " <img width=\"250\" height=\"250\" src=\"https://media.giphy.com/media/1iscJqlNpsW5zk8UFq/giphy.gif\">\n",
        "</p>"
      ]
    },
    {
      "cell_type": "markdown",
      "metadata": {
        "id": "akNlbavAYl0b"
      },
      "source": [
        "#**Equação Horária do Movimento Uniforme**\n",
        "\n",
        "Sendo $s_0$ a posição inicial correspondente ao instante $t$ = 0, e sendo $s$ a posição num instante $t$, vem: $\\Delta t = t - 0$ e $\\Delta s = s - s_0$.\n",
        "\n",
        "De $\\Delta s = v \\Delta t$, resulta:\n",
        "\n",
        "\\begin{equation}\n",
        "s - s_0 = v (t - 0)\n",
        "\\end{equation}\n",
        "\n",
        "\\begin{equation}\n",
        "s - s_0 = v t\n",
        "\\end{equation}\n",
        "\n",
        "\\begin{equation}\n",
        "s = s_0 + v t\n",
        "\\end{equation}\n",
        "\n",
        "Concluímos, portanto, que **a equação horária de um movimento uniforme\n",
        "é do $1º$ grau em t**."
      ]
    },
    {
      "cell_type": "markdown",
      "metadata": {
        "id": "BEay1n3ocmkd"
      },
      "source": [
        "## **Momento Pythônico: Visualização de Dados 🐍**"
      ]
    },
    {
      "cell_type": "markdown",
      "metadata": {
        "id": "hElBv82dc3W4"
      },
      "source": [
        "## **Diagrama posição × tempo**\n",
        "Como concluímos anteriormente, no movimento uniforme, a equação horária é do $1º$ grau em $t$. Desse modo, num diagrama cartesiano, o gráfico de s em função de t é uma reta oblíqua aos eixos. No movimento progressivo (v > 0), a posição cresce com o tempo e, no movimento retrógrado (v < 0), a posição decresce com o tempo. A ordenada do ponto onde a reta corta o eixo dos $s$ é a coordenada da posição inicial $s_0$."
      ]
    },
    {
      "cell_type": "code",
      "metadata": {
        "id": "bUvz15_fawnX"
      },
      "source": [
        "# Importar as bibliotecas\n",
        "import matplotlib.pyplot as plt # Visualizar os dados\n",
        "import numpy as np              # Trabalhar com arrays e funções matemáticas\n",
        "\n",
        "# Movimento uniforme progressivo (v > 0)\n",
        "s0 = 3 \n",
        "v = 2\n",
        "\n",
        "#Movimento uniforme retrógrado (v < 0)\n",
        "#s0 = 6\n",
        "#v = -3\n",
        "\n",
        "t = np.arange(0.0, 10.0, 0.1) # t = [0.0 s, 5.0 s] com passo = 0.1\n",
        "s = s0 + v*t\n",
        "\n",
        "fig, ax = plt.subplots() # Criar a figura e configra os subplots\n",
        "ax.plot(t, s)\n",
        "# ax.plot(t, s,'r--')\n",
        "# ax.plot(t, s,'bs')\n",
        "# ax.plot(t, s,'g^')\n",
        "\n",
        "ax.set(xlabel='tempo (s)', ylabel='posição (m)',\n",
        "       title='Diagrama posição × tempo')  # Configurar títulos do gráfico e dos eixos\n",
        "ax.grid() # Configurar a grade de linhas\n",
        "\n",
        "#fig.savefig(\"teste.png\") # Salvar figura\n",
        "plt.show()"
      ],
      "execution_count": null,
      "outputs": []
    },
    {
      "cell_type": "markdown",
      "metadata": {
        "id": "xTvVBYxT4RYF"
      },
      "source": [
        "### **Exemplo 2**\n",
        "\n",
        "Um  móvel  realiza  movimento  uniforme.  Sabe-se  que no instante $t_1$= 1.0 s a abscissa do móvel é $s_1$ = 10.0 m e, no instante $t_2$= 4.0 s, é s$_2$ = 25 m.\n",
        "\n",
        "a)  Construa o gráfico da posição s em função do tempo t.\n",
        "\n",
        "b)  Determine  a  velocidade  escalar.\n"
      ]
    },
    {
      "cell_type": "markdown",
      "metadata": {
        "id": "wggr8w747T1y"
      },
      "source": [
        "### **Solução**\n",
        "\n",
        "O gráfico de s em função de t no movimento uniforme   é   uma   reta   oblíqua   aos   eixos.   Portanto, basta usar os dois pontos: (t1= 1,0 s;  s1= 10 m) e (t2= 4,0 s; s2= 25 m)."
      ]
    },
    {
      "cell_type": "code",
      "metadata": {
        "id": "Ec9vdqDh4tRi"
      },
      "source": [
        "import matplotlib.pyplot as plt\n",
        "import numpy as np\n",
        "\n",
        "'''\n",
        "t1 = 1.0\n",
        "t2 = 4.0\n",
        "s1 = 10.0\n",
        "s2 = 25.0\n",
        "'''\n",
        "# t = [t1, t2]\n",
        "# s = [s1, s2]\n",
        "\n",
        "t = np.array([1.0, 4.0])\n",
        "s = np.array([10.0, 25.0])\n",
        "\n",
        "fig, ax = plt.subplots()\n",
        "ax.plot(t, s)\n",
        "\n",
        "ax.set(xlabel='tempo (s)', ylabel='posição (m)',\n",
        "       title='Diagrama posição × tempo')\n",
        "ax.grid()\n",
        "\n",
        "#fig.savefig(\"test.png\")\n",
        "plt.show()\n"
      ],
      "execution_count": null,
      "outputs": []
    },
    {
      "cell_type": "markdown",
      "metadata": {
        "id": "cbPA28m77lC4"
      },
      "source": [
        "Sendo  o  movimento  uniforme,  a  velocidade  escalar  instantânea  coincide  com  a  velocidade escalar média:"
      ]
    },
    {
      "cell_type": "code",
      "metadata": {
        "id": "6jlTfhTM5XGF"
      },
      "source": [
        "delta_s = s2 - s1\n",
        "delta_t = t2 - t1\n",
        "\n",
        "v = delta_s / delta_t\n",
        "\n",
        "print(\"v = {} m/s\".format(v))"
      ],
      "execution_count": null,
      "outputs": []
    },
    {
      "cell_type": "markdown",
      "metadata": {
        "id": "jh71ZE7ofjw2"
      },
      "source": [
        "# **Movimento Uniformemente Variado**\n",
        "\n",
        "Quando a aceleração escalar de uma partícula é diferente de zero e não varia com o tempo, o seu movimento é denominado uniformemente variado.\n",
        "Existem muitos exemplos em que é possível se manter constante a aceleração escalar:\n",
        "\n",
        "* um carro que, na estrada, está em baixa velocidade, poderá aumentá-la, acelerando de modo constante, ou seja, fazendo a velocidade variar uniformemente.\n",
        "\n",
        "* Quando deixamos cair uma borracha escolar no chão e esta percorre uma trajetória retilínea vertical, seu movimento pode ser considerado uniformemente variado.\n",
        "\n",
        "Esses e muitos outros exemplos de nosso cotidiano nos levaram a fazer um estudo em separado do **movimento uniformemente variado (MUV)** e a elaborar para ele um grupo especial de equações e respectivos gráficos."
      ]
    },
    {
      "cell_type": "markdown",
      "metadata": {
        "id": "cZGBJOLsf32a"
      },
      "source": [
        "## **A Velocidade Escalar no MUV**\n",
        "\n",
        "Como a aceleração escalar é constante, a aceleração média é igual à instantânea e podemos escrever:\n",
        "\n",
        "\\begin{equation}\n",
        "a = a_m = \\frac{v - v_0}{t - t_0}\n",
        "\\end{equation}\n",
        "\n",
        "• $v_0$ é a velocidade escalar para $t_0 = 0$, denominada de velocidade escalar inicial.\n",
        "\n",
        "• $v$ é a velocidade escalar para um instante genérico $t$.\n",
        "Da equação acima se escreve:\n",
        "\n",
        "\\begin{equation}\n",
        "v = v_0 + at\n",
        "\\end{equation}\n",
        "\n",
        "Essa equação nos informa o valor da velocidade escalar instantânea para um dado valor de $t$. Vamos denominá-la equação horária da velocidade."
      ]
    },
    {
      "cell_type": "markdown",
      "metadata": {
        "id": "7xWGQZ5FyhfN"
      },
      "source": [
        "## **Momento Pythônico: Visualização de Dados 🐍**"
      ]
    },
    {
      "cell_type": "markdown",
      "metadata": {
        "id": "BQhS7wFzgTfq"
      },
      "source": [
        "## **Diagrama velocidade × tempo**\n",
        "Como a equação horária da velocidade é do $1º$ grau em t, podemos concluir também que o gráfico da função que ela representa é uma reta oblíqua ao eixo do tempo."
      ]
    },
    {
      "cell_type": "code",
      "metadata": {
        "id": "cBwlp0LyispB"
      },
      "source": [
        "import matplotlib.pyplot as plt\n",
        "import numpy as np\n",
        "\n",
        "# A função será crescente se a aceleração escalar for positiva (a > 0)\n",
        "#v0 = 3\n",
        "#a = 2\n",
        "\n",
        "#  A função será decrescente se a aceleração escalar for negativa (a < 0)\n",
        "v0 = 6\n",
        "a = -3\n",
        "\n",
        "t = np.arange(0.0, 5.0, 0.1)\n",
        "v = v0 + a*t\n",
        "\n",
        "fig, ax = plt.subplots()\n",
        "ax.plot(t, v)\n",
        "\n",
        "ax.set(xlabel='tempo (s)', ylabel='velocidade (m/s)',\n",
        "       title='Diagrama velocidade × tempo')\n",
        "ax.grid()\n",
        "\n",
        "#fig.savefig(\"test.png\")\n",
        "plt.show()"
      ],
      "execution_count": null,
      "outputs": []
    },
    {
      "cell_type": "markdown",
      "metadata": {
        "id": "Qx2HNidWgeZl"
      },
      "source": [
        "## **Posição do móvel em função do tempo**\n",
        "\n",
        "\n",
        "Consideremos uma partícula que ocupa, no instante $t$ = 0, a posição de abscissa $s_0$ , com velocidade escalar instantânea $v_0$ , cujo movimento tenha uma aceleração escalar constante $a$.\n",
        "\n",
        "Sua nova posição $s$ em qualquer instante $t$ é dada pela equação do\n",
        "$2º$ grau:\n",
        "\n",
        "\\begin{equation}\n",
        "s = s_0 + v_0t + \\frac{a}{2} t^2\n",
        "\\end{equation}\n",
        "\n",
        "Os termos $s_0$, $v_0$ e $a$ são conhecidos como parâmetros do movimento, enquanto $s$ e $t$ são as variáveis."
      ]
    },
    {
      "cell_type": "markdown",
      "metadata": {
        "id": "A5H7-y8qy20T"
      },
      "source": [
        "## **Momento Pythônico: Visualização de Dados 🐍**"
      ]
    },
    {
      "cell_type": "markdown",
      "metadata": {
        "id": "Zp_XboIJr0zS"
      },
      "source": [
        "## **Diagrama horário posição × tempo**\n",
        "\n",
        "Como a equação horária das posições é do $2º$ grau em $t$, o gráfico da função que ela representa é uma parábola. A concavidade dessa parábola depende do sinal do termo do $2º$ grau, ou seja, da aceleração escalar $a$."
      ]
    },
    {
      "cell_type": "code",
      "metadata": {
        "id": "b3H0_JmwiHn5"
      },
      "source": [
        "import matplotlib.pyplot as plt\n",
        "import numpy as np\n",
        "\n",
        "# Com a concavidade para cima (a > 0)\n",
        "#s0 = 3\n",
        "#v0 = 5\n",
        "#a = 6\n",
        "\n",
        "# Com a concavidade para baixo (a < 0)\n",
        "s0 = 0\n",
        "v0 = 2 \n",
        "a = -4\n",
        "\n",
        "t = np.arange(0.0, 5.0, 0.1)\n",
        "s = s0 + v0 * t + (a / 2) * t ** 2\n",
        "\n",
        "fig, ax = plt.subplots()\n",
        "ax.plot(t, s)\n",
        "\n",
        "ax.set(xlabel='tempo (s)', ylabel='posição (m)',\n",
        "       title='Diagrama posição × tempo')\n",
        "ax.grid()\n",
        "\n",
        "plt.show()"
      ],
      "execution_count": null,
      "outputs": []
    },
    {
      "cell_type": "markdown",
      "metadata": {
        "id": "DliPZXq4QoRL"
      },
      "source": [
        "# **Momento Pythônico: Pandas em uma Casca de Noz 🐼**"
      ]
    },
    {
      "cell_type": "markdown",
      "metadata": {
        "id": "55Y8oqOPcST7"
      },
      "source": [
        "### **Exportando os Dados**"
      ]
    },
    {
      "cell_type": "code",
      "metadata": {
        "id": "-ye8eR9nMmkh"
      },
      "source": [
        "# Importar as bibliotecas\n",
        "import numpy as np\n",
        "import pandas as pd\n",
        "\n",
        "s0 = 3\n",
        "v0 = 5\n",
        "a = 6\n",
        "\n",
        "t = np.arange(0.0, 50.0, 0.1)\n",
        "s = s0 + v0 * t + (a / 2) * t ** 2\n",
        "\n",
        "resultados = [t, s]\n",
        "\n",
        "df_resultados = pd.DataFrame({'t': (resultados[0]),'s': (resultados[1])}) # Construir o dataframe"
      ],
      "execution_count": null,
      "outputs": []
    },
    {
      "cell_type": "code",
      "metadata": {
        "id": "Qw2x0KpqOtmO"
      },
      "source": [
        "# Exportar o arquivo py_resultados.csv\n",
        "df_resultados.to_csv('py_resultados.csv', index=False, sep=';')"
      ],
      "execution_count": null,
      "outputs": []
    },
    {
      "cell_type": "code",
      "metadata": {
        "colab": {
          "base_uri": "https://localhost:8080/",
          "height": 17
        },
        "id": "w0691smcOwht",
        "outputId": "ee550278-fd55-42b3-c7c6-44e97bda08b9"
      },
      "source": [
        "# Fazer download do arquivo py_resultados.csv\n",
        "from google.colab import files\n",
        "files.download(\"py_resultados.csv\")"
      ],
      "execution_count": null,
      "outputs": [
        {
          "output_type": "display_data",
          "data": {
            "application/javascript": [
              "\n",
              "    async function download(id, filename, size) {\n",
              "      if (!google.colab.kernel.accessAllowed) {\n",
              "        return;\n",
              "      }\n",
              "      const div = document.createElement('div');\n",
              "      const label = document.createElement('label');\n",
              "      label.textContent = `Downloading \"${filename}\": `;\n",
              "      div.appendChild(label);\n",
              "      const progress = document.createElement('progress');\n",
              "      progress.max = size;\n",
              "      div.appendChild(progress);\n",
              "      document.body.appendChild(div);\n",
              "\n",
              "      const buffers = [];\n",
              "      let downloaded = 0;\n",
              "\n",
              "      const channel = await google.colab.kernel.comms.open(id);\n",
              "      // Send a message to notify the kernel that we're ready.\n",
              "      channel.send({})\n",
              "\n",
              "      for await (const message of channel.messages) {\n",
              "        // Send a message to notify the kernel that we're ready.\n",
              "        channel.send({})\n",
              "        if (message.buffers) {\n",
              "          for (const buffer of message.buffers) {\n",
              "            buffers.push(buffer);\n",
              "            downloaded += buffer.byteLength;\n",
              "            progress.value = downloaded;\n",
              "          }\n",
              "        }\n",
              "      }\n",
              "      const blob = new Blob(buffers, {type: 'application/binary'});\n",
              "      const a = document.createElement('a');\n",
              "      a.href = window.URL.createObjectURL(blob);\n",
              "      a.download = filename;\n",
              "      div.appendChild(a);\n",
              "      a.click();\n",
              "      div.remove();\n",
              "    }\n",
              "  "
            ],
            "text/plain": [
              "<IPython.core.display.Javascript object>"
            ]
          },
          "metadata": {
            "tags": []
          }
        },
        {
          "output_type": "display_data",
          "data": {
            "application/javascript": [
              "download(\"download_9832744e-7d90-43ba-aaf0-e665f252ef89\", \"py_resultados.csv\", 11792)"
            ],
            "text/plain": [
              "<IPython.core.display.Javascript object>"
            ]
          },
          "metadata": {
            "tags": []
          }
        }
      ]
    },
    {
      "cell_type": "markdown",
      "metadata": {
        "id": "01n8BbRHcHeq"
      },
      "source": [
        "### **Importando os Dados**"
      ]
    },
    {
      "cell_type": "code",
      "metadata": {
        "id": "ByCdlVrtS435"
      },
      "source": [
        "# Importar o arquivo py_resultados.csv\n",
        "dataframe = pd.read_csv('/content/py_resultados.csv', sep=';')"
      ],
      "execution_count": null,
      "outputs": []
    },
    {
      "cell_type": "code",
      "metadata": {
        "id": "2eJuIA-4Xc5G"
      },
      "source": [
        "# Visualizar as 5 primeiras entradas\n",
        "df_resultados.head()"
      ],
      "execution_count": null,
      "outputs": []
    },
    {
      "cell_type": "code",
      "metadata": {
        "id": "UfgD5RgPkQrL"
      },
      "source": [
        "# Visualizar as 5 últimas entradas\n",
        "df_resultados.tail()"
      ],
      "execution_count": null,
      "outputs": []
    },
    {
      "cell_type": "code",
      "metadata": {
        "id": "56pWzpKSkT4I"
      },
      "source": [
        "# Visualizar uma amostra de 5 entradas\n",
        "df_resultados.sample(10)"
      ],
      "execution_count": null,
      "outputs": []
    },
    {
      "cell_type": "code",
      "metadata": {
        "id": "6WAdbJPuXgcJ"
      },
      "source": [
        "import matplotlib.pyplot as plt\n",
        "\n",
        "plt.plot(t, s)\n",
        "plt.xlabel('tempo (s)')\n",
        "plt.ylabel('posição (m)')\n",
        "plt.title('Diagrama posição x tempo')\n",
        "plt.show()"
      ],
      "execution_count": null,
      "outputs": []
    },
    {
      "cell_type": "markdown",
      "metadata": {
        "id": "2DrP0fGym4Zk"
      },
      "source": [
        "# **A relação entre posição, velocidade e aceleração**\n",
        "\n",
        "* A velocidade $v(t)$ é a taxa de variação da posição $s(t)$\n",
        "* A aceleração $a(t)$ é a taxa de variação da velocidade\n",
        "\n",
        "* A velocidade indica a direção do movimento\n",
        "\n",
        "* Um objeto muda a direção quando a velocidade muda o sinal\n",
        "\n",
        "* Um objeto ganha acelaração quando a velocidade e a aceleração têm o mesmo sinal\n",
        "\n",
        "* Um objeto está desacelarando quando a velocidade e a aceleração têm sinais opostos\n",
        "\n",
        "* Um objeto está parado quando a velocidade é igual a zero"
      ]
    },
    {
      "cell_type": "markdown",
      "metadata": {
        "id": "YYH9mt6zxhdV"
      },
      "source": [
        "# **Referências**\n",
        "\n",
        "CALÇADA, Caio Sérgio; SAMPAIO, José Luiz. **Física Clássica: Mecânica**. 1ª. Edição. Atual Editora. São Paulo. 2012.\n",
        "\n",
        "[NumPy Documentation](https://numpy.org/doc/stable/)\n",
        "\n",
        "[Matplotlib Documentation](https://matplotlib.org/contents.html)\n",
        "\n",
        "[Pandas Documentation](https://pandas.pydata.org/pandas-docs/stable/index.html#)"
      ]
    }
  ]
}